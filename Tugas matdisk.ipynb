{
 "cells": [
  {
   "cell_type": "code",
   "execution_count": 3,
   "metadata": {},
   "outputs": [
    {
     "name": "stdout",
     "output_type": "stream",
     "text": [
      "A = [2, 4, 6, 8, 10, 12, 14, 16, 18, 20] = 10\n",
      "B = [1, 3, 5, 7, 9, 11, 13, 15, 17, 19, 21, 23, 25, 27, 29] = 15\n",
      "C = [3, 6, 9, 12, 15, 18, 21, 24, 27, 30, 33, 36] = 12\n",
      "D = [6, 12, 18, 24, 30, 36, 42, 48, 54, 60] = 10\n",
      "E = [11, 13, 17, 19, 23, 29, 31, 37] = 8\n",
      "S = [1, 2, 3, 4, 5, 6, 7, 8, 9, 10, 11, 12, 13, 14, 15, 16, 17, 18, 19, 20, 21, 23, 24, 25, 27, 29, 30, 31, 33, 36, 37, 42, 48, 54, 60] = 35\n"
     ]
    }
   ],
   "source": [
    "genap10 = [i*2 for i in range(1,10+1)]\n",
    "ganjil15 = [2*i-1 for i in range(1,15+1)]\n",
    "habis3_12 = [3*i for i in range(1,13)]\n",
    "habis6_10 = [6*i for i in range(1,11)]\n",
    "prima10_40 = [11, 13, 17, 19, 23, 29, 31, 37]\n",
    "S = set(genap10+ganjil15+habis3_12+habis6_10+prima10_40)\n",
    "\n",
    "\n",
    "print(f\"A = {genap10} = {len(genap10)}\")\n",
    "print(f\"B = {ganjil15} = {len(ganjil15)}\")\n",
    "print(f\"C = {habis3_12} = {len(habis3_12)}\")\n",
    "print(f\"D = {habis6_10} = {len(habis6_10)}\")\n",
    "print(f\"E = {prima10_40} = {len(prima10_40)}\")\n",
    "print(f\"S = {list(S)} = {len(list(S))}\")\n"
   ]
  },
  {
   "cell_type": "code",
   "execution_count": 4,
   "metadata": {},
   "outputs": [
    {
     "name": "stdout",
     "output_type": "stream",
     "text": [
      "A ∪ E = [2, 4, 6, 8, 10, 11, 12, 13, 14, 16, 17, 18, 19, 20, 23, 29, 31, 37]\n",
      "A ∩ C = [6, 12, 18]\n",
      "B ∩ E = [11, 13, 17, 19, 23, 29]\n",
      "D - C = [42, 48, 54, 60]\n",
      "D ∪ E = [6, 11, 12, 13, 17, 18, 19, 23, 24, 29, 30, 31, 36, 37, 42, 48, 54, 60]\n"
     ]
    }
   ],
   "source": [
    "print(f\"A ∪ E = {sorted(list(set(genap10).union(prima10_40)))}\")\n",
    "print(f\"A ∩ C = {sorted(list(set(genap10).intersection(habis3_12)))}\")\n",
    "print(f\"B ∩ E = {sorted(list(set(ganjil15).intersection(prima10_40)))}\")\n",
    "print(f\"D - C = {sorted(list(set(habis6_10).difference(habis3_12)))}\")\n",
    "print(f\"D ∪ E = {sorted(list(set(habis6_10).union(prima10_40)))}\")\n"
   ]
  },
  {
   "cell_type": "code",
   "execution_count": 5,
   "metadata": {},
   "outputs": [
    {
     "name": "stdout",
     "output_type": "stream",
     "text": [
      "(A - C) - D = [2, 4, 8, 10, 14, 16, 20]\n",
      "A ∩ C ∩ D = [6, 12, 18]\n",
      "B ∩ E ∪ D = [6, 11, 12, 13, 17, 18, 19, 23, 24, 29, 30, 36, 42, 48, 54, 60]\n",
      "(A ∆ D) - E = [2, 4, 8, 10, 14, 16, 20, 24, 30, 36, 42, 48, 54, 60]\n",
      "(A - D) ∩ B' = [2, 4, 8, 10, 14, 16, 20]\n"
     ]
    }
   ],
   "source": [
    "print(f\"(A - C) - D = {sorted(list((set(genap10).difference(habis3_12)).difference(habis6_10)))}\")\n",
    "print(f\"A ∩ C ∩ D = {sorted(list(set(genap10).intersection(habis3_12).intersection(habis6_10)))}\")\n",
    "print(f\"B ∩ E ∪ D = {sorted(list((set(ganjil15).intersection(prima10_40)).union(habis6_10)))}\")\n",
    "print(f\"(A ∆ D) - E = {list(set(genap10).union(habis6_10).difference(list(set(genap10).intersection(habis6_10))))}\")\n",
    "print(f\"(A - D) ∩ B' = {list(set(genap10).difference(habis6_10).intersection(set(S)-set(ganjil15)))}\")"
   ]
  }
 ],
 "metadata": {
  "kernelspec": {
   "display_name": "Python 3",
   "language": "python",
   "name": "python3"
  },
  "language_info": {
   "codemirror_mode": {
    "name": "ipython",
    "version": 3
   },
   "file_extension": ".py",
   "mimetype": "text/x-python",
   "name": "python",
   "nbconvert_exporter": "python",
   "pygments_lexer": "ipython3",
   "version": "3.9.2"
  },
  "orig_nbformat": 4,
  "vscode": {
   "interpreter": {
    "hash": "29d37a6fad4064aa9ea9626b8ba056e50393793323446aa7234e1205d37c4fe5"
   }
  }
 },
 "nbformat": 4,
 "nbformat_minor": 2
}
